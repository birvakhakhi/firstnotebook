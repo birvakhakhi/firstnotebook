{
 "cells": [
  {
   "cell_type": "markdown",
   "id": "f5477e00-9997-4bf5-83fb-7c874962702a",
   "metadata": {},
   "source": [
    "# Data Science Tools and Ecosystems\n"
   ]
  },
  {
   "cell_type": "markdown",
   "id": "9dc63ce2-401f-4c71-9320-639fa9497a60",
   "metadata": {},
   "source": [
    "## In this notebook, Data Science Tools and Ecosystem are summarized.\n"
   ]
  },
  {
   "cell_type": "markdown",
   "id": "f73e955e-2327-4463-b835-4859292d5274",
   "metadata": {},
   "source": [
    "**Objectives: This notebook covers the essential of a Data Science Toolkit.**\n",
    "- Data Science languages\n",
    "- Libraries used by Data Scientists\n",
    "- Data Science Tools"
   ]
  },
  {
   "cell_type": "markdown",
   "id": "a01f326c-0422-45f8-8788-bcae0c5b23cc",
   "metadata": {},
   "source": [
    "### Some of the popular languages that Data Scientists use are:\n",
    "1. Python\n",
    "2. R\n",
    "3. SQL\n",
    "4. Julia"
   ]
  },
  {
   "cell_type": "markdown",
   "id": "eb5585ff-25ff-4866-8e54-d5b315f9b8c1",
   "metadata": {},
   "source": [
    "### Some of the commonly used libraries used by Data Scientists include:\n",
    "1. Pandas\n",
    "2. Numpy\n",
    "3. Matplotlib\n",
    "4. Scikit learn"
   ]
  },
  {
   "cell_type": "markdown",
   "id": "de27a3c4-7ff7-45e7-9561-ccb835d5f485",
   "metadata": {},
   "source": [
    "| Data Science Tools |\n",
    "| ------------------ |\n",
    "| Jupyter Notebook |\n",
    "| RStudio |\n",
    "| Appache Zeppelin |"
   ]
  },
  {
   "cell_type": "markdown",
   "id": "22548200-d5c0-43d0-9fdd-cdb5d2e22c75",
   "metadata": {},
   "source": [
    "### Below are a few examples of evaluating arithmetic expressions in Python"
   ]
  },
  {
   "cell_type": "code",
   "execution_count": 2,
   "id": "0a416289-8672-4454-ad96-ee48aebdea67",
   "metadata": {},
   "outputs": [
    {
     "data": {
      "text/plain": [
       "17"
      ]
     },
     "execution_count": 2,
     "metadata": {},
     "output_type": "execute_result"
    }
   ],
   "source": [
    "# This a simple arithmetic expression to mutiply then add integers\n",
    "(3*4)+5"
   ]
  },
  {
   "cell_type": "code",
   "execution_count": 3,
   "id": "c99a7cdd-4587-4676-98e0-348ab71a8193",
   "metadata": {},
   "outputs": [
    {
     "data": {
      "text/plain": [
       "3.3333333333333335"
      ]
     },
     "execution_count": 3,
     "metadata": {},
     "output_type": "execute_result"
    }
   ],
   "source": [
    "# This will convert 200 minutes to hours by diving by 60.\n",
    "200/60"
   ]
  },
  {
   "cell_type": "markdown",
   "id": "2c81583f-7dd8-4d17-8453-a0b4c28dd220",
   "metadata": {},
   "source": [
    "## Author\n",
    "Birva Khakhi"
   ]
  },
  {
   "cell_type": "code",
   "execution_count": null,
   "id": "c08f8fb0-c01c-4c5d-bce6-e46acc72b147",
   "metadata": {},
   "outputs": [],
   "source": []
  }
 ],
 "metadata": {
  "kernelspec": {
   "display_name": "Python 3 (ipykernel)",
   "language": "python",
   "name": "python3"
  },
  "language_info": {
   "codemirror_mode": {
    "name": "ipython",
    "version": 3
   },
   "file_extension": ".py",
   "mimetype": "text/x-python",
   "name": "python",
   "nbconvert_exporter": "python",
   "pygments_lexer": "ipython3",
   "version": "3.10.18"
  }
 },
 "nbformat": 4,
 "nbformat_minor": 5
}
